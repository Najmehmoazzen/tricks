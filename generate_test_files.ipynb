```python
import os

def generate_test_files():
    start_number = 1  # Starting number for the first file
    rows = 5
    cols = 10
    num_files = 200
    N = 100
    for i in range(1, num_files):  # Generate 100 files
        x=i/10
        filename = f"test/Phase_snapshot_N{N:d}_J{x:0.2f}.dat"
        with open(filename, "w") as f:
            for row in range(rows):
                line = "\t".join(str(start_number + row) for _ in range(cols))
                f.write(line + "\n")
        start_number += rows  # Increment start number for next file

if __name__ == "__main__":
    generate_test_files()
    print("200 text files have been generated successfully!")
```
