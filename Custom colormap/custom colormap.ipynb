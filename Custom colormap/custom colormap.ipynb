{
 "cells": [
  {
   "cell_type": "markdown",
   "metadata": {},
   "source": [
    "### Cyclic colorbar"
   ]
  },
  {
   "cell_type": "code",
   "execution_count": 1,
   "metadata": {},
   "outputs": [
    {
     "data": {
      "image/png": "[encoded data removed]",
      "text/plain": [
       "<Figure size 640x480 with 2 Axes>"
      ]
     },
     "metadata": {},
     "output_type": "display_data"
    }
   ],
   "source": [
    "import matplotlib.pyplot as plt\n",
    "import numpy as np\n",
    "from matplotlib.colors import LinearSegmentedColormap\n",
    "\n",
    "# Define the colors for the custom cyclic colormap with a wider range for cyan\n",
    "colors = [\n",
    "    (1.0, 0.0, 1.0),  # Magenta (255, 0, 255)\n",
    "    (0.0, 0.0, 1.0),  # Blue (0, 0, 255)\n",
    "    (0.0, 1.0, 1.0),  # Cyan (0, 255, 255)\n",
    "    (0.0, 1.0, 0.0),  # Green (0, 255, 0)\n",
    "    (1.0, 1.0, 0.0),  # Yellow (255, 255, 0)\n",
    "    (1.0, 0.5, 0.0),  # Orange (255, 128, 0)\n",
    "    (1.0, 0.0, 0.0),  # Red (255, 0, 0)\n",
    "    (1.0, 0.0, 1.0)   # Magenta (255, 0, 255)\n",
    "]\n",
    "\n",
    "###'''\n",
    "# other custom colormap\n",
    "'''\n",
    "colors = [\n",
    "    (0.6, 0, 0.6),  # Purple\n",
    "    (0, 0, 1),      # Blue\n",
    "    (0, 1, 0),      # Green\n",
    "    (1, 1, 0),      # Yellow\n",
    "    (1, 0, 0),      # Red\n",
    "    (0.6, 0, 0.6)   # Purple\n",
    "]'''\n",
    "###'''\n",
    "\n",
    "\n",
    "\n",
    "# Create the custom cyclic colormap\n",
    "custom_cmap = LinearSegmentedColormap.from_list('custom_cmap', colors, N=256)\n",
    "\n",
    "# Example data\n",
    "data = np.linspace(-np.pi, np.pi, 100).reshape(10, 10)\n",
    "\n",
    "# Create a figure and a set of subplots\n",
    "fig, ax = plt.subplots()\n",
    "\n",
    "# Display the data with the custom colormap\n",
    "cax = ax.imshow(data, cmap=custom_cmap, interpolation='nearest')\n",
    "\n",
    "# Add a colorbar with appropriate ticks\n",
    "cbar = fig.colorbar(cax, ticks=[-np.pi, 0, np.pi])\n",
    "cbar.ax.set_yticklabels(['$-\\\\pi$', '0', '$\\\\pi$'])\n",
    "\n",
    "# Show the plot\n",
    "plt.show()\n"
   ]
  },
  {
   "cell_type": "code",
   "execution_count": null,
   "metadata": {},
   "outputs": [],
   "source": []
  }
 ],
 "metadata": {
  "kernelspec": {
   "display_name": "Python 3",
   "language": "python",
   "name": "python3"
  },
  "language_info": {
   "codemirror_mode": {
    "name": "ipython",
    "version": 3
   },
   "file_extension": ".py",
   "mimetype": "text/x-python",
   "name": "python",
   "nbconvert_exporter": "python",
   "pygments_lexer": "ipython3",
   "version": "3.11.9"
  }
 },
 "nbformat": 4,
 "nbformat_minor": 2
}
